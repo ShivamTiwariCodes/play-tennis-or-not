{
  "nbformat": 4,
  "nbformat_minor": 0,
  "metadata": {
    "colab": {
      "name": "play-tennis-or-not.ipynb",
      "provenance": [],
      "authorship_tag": "ABX9TyNvdPnbmey1vMx8Y2Cd/0v3",
      "include_colab_link": true
    },
    "kernelspec": {
      "name": "python3",
      "display_name": "Python 3"
    },
    "language_info": {
      "name": "python"
    }
  },
  "cells": [
    {
      "cell_type": "markdown",
      "metadata": {
        "id": "view-in-github",
        "colab_type": "text"
      },
      "source": [
        "<a href=\"https://colab.research.google.com/github/ShivamTiwariCodes/play-tennis-or-not/blob/main/play_tennis_or_not.ipynb\" target=\"_parent\"><img src=\"https://colab.research.google.com/assets/colab-badge.svg\" alt=\"Open In Colab\"/></a>"
      ]
    },
    {
      "cell_type": "code",
      "execution_count": null,
      "metadata": {
        "id": "xPSM99B1_QwM"
      },
      "outputs": [],
      "source": [
        ""
      ]
    }
  ]
}